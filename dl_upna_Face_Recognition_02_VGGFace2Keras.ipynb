{
  "nbformat": 4,
  "nbformat_minor": 0,
  "metadata": {
    "colab": {
      "name": "dl-upna-Face-Recognition-02-VGGFace2Keras.ipynb",
      "provenance": [],
      "collapsed_sections": [],
      "toc_visible": true,
      "authorship_tag": "ABX9TyOjtR2ZzgcIRTCxNLcBnamh",
      "include_colab_link": true
    },
    "kernelspec": {
      "name": "python3",
      "display_name": "Python 3"
    }
  },
  "cells": [
    {
      "cell_type": "markdown",
      "metadata": {
        "id": "view-in-github",
        "colab_type": "text"
      },
      "source": [
        "<a href=\"https://colab.research.google.com/github/afrago/dl-upna-face-recognition/blob/master/dl_upna_Face_Recognition_02_VGGFace2Keras.ipynb\" target=\"_parent\"><img src=\"https://colab.research.google.com/assets/colab-badge.svg\" alt=\"Open In Colab\"/></a>"
      ]
    },
    {
      "cell_type": "markdown",
      "metadata": {
        "id": "BJbdAjChOB5q",
        "colab_type": "text"
      },
      "source": [
        "# Reconocimiento Facial\n",
        "\n",
        "El reconocimiento facial es la tarea general de identificar y verificar a las personas a partir de fotografías de su rostro.\n",
        "\n",
        "## Modelos VGGFace y VGGFace2 \n",
        "VGGFace se refiere a una serie de modelos desarrollados para el reconocimiento de rostros y demostrados en conjuntos de datos de visión computarizada de referencia, desarrollada por miembros del Grupo de Geometría Visual (VGG) de la Universidad de Oxford.\n",
        "\n",
        "Actualmente hay dos modelos principales de VGG para el reconocimiento facial, el VGGFace y el VGGFace2. \n",
        "\n",
        "### Modelo VGGFace \n",
        "Este conjunto de datos se utiliza como base para el desarrollo de [CNN](https://developers.google.com/machine-learning/practica/image-classification/convolutional-neural-networks) profundos para tareas de reconocimiento facial como la identificación y verificación de rostros. \n",
        "Los modelos se entrenan con un conjunto de datos de gran tamaño, y luego se evalúan en un conjuntos de datos de reconocimiento facial de referencia, demostrando que el modelo es eficaz para generar rasgos generalizados de los rostros.\n",
        "\n",
        "Estos modelos describen el proceso de entrenamiento de un clasificador de rostros que utiliza una función de [activación de softmax](https://developers.google.com/machine-learning/crash-course/multi-class-neural-networks/softmax?hl=es-419) en la capa de salida para clasificar los rostros como personas.\n",
        "Posteriormente, esta capa se elimina para que la salida de la red sea una representación vectorial de los rasgos del rostro, llamada incrustación de rostros. \n",
        "En la fase final, el modelo se perfecciona, para que la distancia euclidiana entre los vectores generados para una misma identidad sea menor y los vectores generados para diferentes identidades sean mayores. Esto se logra mediante una función de [Perdida de Triplete](https://en.wikipedia.org/wiki/Triplet_loss)\n",
        "\n",
        "Se utiliza una arquitectura de red neural convolucional profunda al estilo VGG, con bloques de capas convolucionales con pequeños núcleos y [activaciones ReLU](https://developers.google.com/machine-learning/crash-course/glossary?hl=es#unidad-lineal-rectificada-relu,-rectified-linear-unit) seguidas de capas de agrupamiento máximo, y el uso de capas totalmente conectadas en el extremo clasificador de la red.\n",
        "\n",
        "### VGGFace2 Model\n",
        "VGGFace2 se ha convertido en el nombre para referirse a los modelos pre-entrenados que proporcionan reconocimiento facial, entrenados con este conjunto de datos.\n",
        "\n",
        "Los modelos se entrenan en el conjunto de datos, específicamente un modelo [ResNet-50](https://medium.com/@14prakash/understanding-and-implementing-architectures-of-resnet-and-resnext-for-state-of-the-art-image-cf51669e1624) y un modelo SqueezeNet-ResNet-50 (llamado SE-ResNet-50 o SENet), y son variaciones de estos modelos las que han sido puestos a disposición por los autores, junto con el código asociado. Los modelos se evalúan en conjuntos de datos de reconocimiento facial estándar, demostrando así un rendimiento de última generación.\n",
        "\n",
        "\n",
        "\n"
      ]
    },
    {
      "cell_type": "markdown",
      "metadata": {
        "id": "-dR-II0sYkmd",
        "colab_type": "text"
      },
      "source": [
        "## Instalación de la biblioteca the keras-vggface\n"
      ]
    },
    {
      "cell_type": "code",
      "metadata": {
        "id": "hHwjDk7FYA1P",
        "colab_type": "code",
        "outputId": "b7688652-3c3a-4b82-e3ef-31bb0ece11fb",
        "colab": {
          "base_uri": "https://localhost:8080/",
          "height": 459
        }
      },
      "source": [
        "! pip install matplotlib\n",
        "! pip install git+https://github.com/rcmalli/keras-vggface.git\n"
      ],
      "execution_count": 0,
      "outputs": [
        {
          "output_type": "stream",
          "text": [
            "Requirement already satisfied: matplotlib in /usr/local/lib/python3.6/dist-packages (3.2.1)\n",
            "Requirement already satisfied: numpy>=1.11 in /usr/local/lib/python3.6/dist-packages (from matplotlib) (1.18.4)\n",
            "Requirement already satisfied: kiwisolver>=1.0.1 in /usr/local/lib/python3.6/dist-packages (from matplotlib) (1.2.0)\n",
            "Requirement already satisfied: python-dateutil>=2.1 in /usr/local/lib/python3.6/dist-packages (from matplotlib) (2.8.1)\n",
            "Requirement already satisfied: pyparsing!=2.0.4,!=2.1.2,!=2.1.6,>=2.0.1 in /usr/local/lib/python3.6/dist-packages (from matplotlib) (2.4.7)\n",
            "Requirement already satisfied: cycler>=0.10 in /usr/local/lib/python3.6/dist-packages (from matplotlib) (0.10.0)\n",
            "Requirement already satisfied: six>=1.5 in /usr/local/lib/python3.6/dist-packages (from python-dateutil>=2.1->matplotlib) (1.12.0)\n",
            "Collecting git+https://github.com/rcmalli/keras-vggface.git\n",
            "  Cloning https://github.com/rcmalli/keras-vggface.git to /tmp/pip-req-build-5qw9et4m\n",
            "  Running command git clone -q https://github.com/rcmalli/keras-vggface.git /tmp/pip-req-build-5qw9et4m\n",
            "Requirement already satisfied: numpy>=1.9.1 in /usr/local/lib/python3.6/dist-packages (from keras-vggface==0.6) (1.18.4)\n",
            "Requirement already satisfied: scipy>=0.14 in /usr/local/lib/python3.6/dist-packages (from keras-vggface==0.6) (1.4.1)\n",
            "Requirement already satisfied: h5py in /usr/local/lib/python3.6/dist-packages (from keras-vggface==0.6) (2.10.0)\n",
            "Requirement already satisfied: pillow in /usr/local/lib/python3.6/dist-packages (from keras-vggface==0.6) (7.0.0)\n",
            "Requirement already satisfied: keras in /usr/local/lib/python3.6/dist-packages (from keras-vggface==0.6) (2.3.1)\n",
            "Requirement already satisfied: six>=1.9.0 in /usr/local/lib/python3.6/dist-packages (from keras-vggface==0.6) (1.12.0)\n",
            "Requirement already satisfied: pyyaml in /usr/local/lib/python3.6/dist-packages (from keras-vggface==0.6) (3.13)\n",
            "Requirement already satisfied: keras-preprocessing>=1.0.5 in /usr/local/lib/python3.6/dist-packages (from keras->keras-vggface==0.6) (1.1.2)\n",
            "Requirement already satisfied: keras-applications>=1.0.6 in /usr/local/lib/python3.6/dist-packages (from keras->keras-vggface==0.6) (1.0.8)\n",
            "Building wheels for collected packages: keras-vggface\n",
            "  Building wheel for keras-vggface (setup.py) ... \u001b[?25l\u001b[?25hdone\n",
            "  Created wheel for keras-vggface: filename=keras_vggface-0.6-cp36-none-any.whl size=8311 sha256=0f5c4a8a9227a5ced2f2c9d5cdf3b2ac8dc98f6a742b1d135491b624ced923b4\n",
            "  Stored in directory: /tmp/pip-ephem-wheel-cache-64xquzz0/wheels/36/07/46/06c25ce8e9cd396dabe151ea1d8a2bc28dafcb11321c1f3a6d\n",
            "Successfully built keras-vggface\n",
            "Installing collected packages: keras-vggface\n",
            "Successfully installed keras-vggface-0.6\n"
          ],
          "name": "stdout"
        }
      ]
    },
    {
      "cell_type": "code",
      "metadata": {
        "id": "8aUGqBxxYd1-",
        "colab_type": "code",
        "outputId": "6d2efe8e-7050-49a3-9a2b-f63b51a18b15",
        "colab": {
          "base_uri": "https://localhost:8080/",
          "height": 187
        }
      },
      "source": [
        "pip show keras-vggface"
      ],
      "execution_count": 0,
      "outputs": [
        {
          "output_type": "stream",
          "text": [
            "Name: keras-vggface\n",
            "Version: 0.6\n",
            "Summary: VGGFace implementation with Keras framework\n",
            "Home-page: https://github.com/rcmalli/keras-vggface\n",
            "Author: Refik Can MALLI\n",
            "Author-email: mallir@itu.edu.tr\n",
            "License: MIT\n",
            "Location: /usr/local/lib/python3.6/dist-packages\n",
            "Requires: h5py, keras, numpy, pillow, scipy, six, pyyaml\n",
            "Required-by: \n"
          ],
          "name": "stdout"
        }
      ]
    },
    {
      "cell_type": "code",
      "metadata": {
        "id": "4Q4tb47SYwYp",
        "colab_type": "code",
        "outputId": "333b1e69-a120-4c58-8e3c-486f1d838405",
        "colab": {
          "base_uri": "https://localhost:8080/",
          "height": 51
        }
      },
      "source": [
        "import matplotlib.pyplot as pyplot\n",
        "\n",
        "# check version of keras_vggface\n",
        "import keras_vggface\n",
        "# print version\n",
        "print(keras_vggface.__version__)"
      ],
      "execution_count": 0,
      "outputs": [
        {
          "output_type": "stream",
          "text": [
            "Using TensorFlow backend.\n"
          ],
          "name": "stderr"
        },
        {
          "output_type": "stream",
          "text": [
            "0.6\n"
          ],
          "name": "stdout"
        }
      ]
    },
    {
      "cell_type": "markdown",
      "metadata": {
        "id": "4kRRW-WfZPA9",
        "colab_type": "text"
      },
      "source": [
        "## Etapa 1 y 2: Detección y alineación \n",
        "\n",
        "### Cómo detectar rostros para el reconocimiento facial\n",
        "\n",
        "Antes de que podamos realizar el reconocimiento de rostros, necesitamos detectar los rostros.\n",
        "La detección de rostros es el proceso de localizar automáticamente los rostros en una fotografía y localizarlos dibujando un cuadro delimitador alrededor de su extensión.\n",
        "\n",
        "También utilizaremos la Red Neural Convolucional en Cascada Multitarea, o [MTCNN](https://arxiv.org/abs/1604.02878), para la detección de rostros, por ejemplo, encontrar y extraer rostros de las fotos. \n",
        "Implementación de [Iván  de Paz Centeno](https://github.com/ipazc/mtcnn)\n"
      ]
    },
    {
      "cell_type": "code",
      "metadata": {
        "id": "jf85cE16ZRmt",
        "colab_type": "code",
        "outputId": "4b4eed1e-a5c3-481d-cf78-1007c13ed31b",
        "colab": {
          "base_uri": "https://localhost:8080/",
          "height": 255
        }
      },
      "source": [
        "! pip install mtcnn"
      ],
      "execution_count": 0,
      "outputs": [
        {
          "output_type": "stream",
          "text": [
            "Collecting mtcnn\n",
            "\u001b[?25l  Downloading https://files.pythonhosted.org/packages/67/43/abee91792797c609c1bf30f1112117f7a87a713ebaa6ec5201d5555a73ef/mtcnn-0.1.0-py3-none-any.whl (2.3MB)\n",
            "\r\u001b[K     |▏                               | 10kB 18.1MB/s eta 0:00:01\r\u001b[K     |▎                               | 20kB 1.7MB/s eta 0:00:02\r\u001b[K     |▍                               | 30kB 2.3MB/s eta 0:00:01\r\u001b[K     |▋                               | 40kB 2.5MB/s eta 0:00:01\r\u001b[K     |▊                               | 51kB 2.0MB/s eta 0:00:02\r\u001b[K     |▉                               | 61kB 2.2MB/s eta 0:00:01\r\u001b[K     |█                               | 71kB 2.5MB/s eta 0:00:01\r\u001b[K     |█▏                              | 81kB 2.8MB/s eta 0:00:01\r\u001b[K     |█▎                              | 92kB 2.9MB/s eta 0:00:01\r\u001b[K     |█▌                              | 102kB 2.8MB/s eta 0:00:01\r\u001b[K     |█▋                              | 112kB 2.8MB/s eta 0:00:01\r\u001b[K     |█▊                              | 122kB 2.8MB/s eta 0:00:01\r\u001b[K     |█▉                              | 133kB 2.8MB/s eta 0:00:01\r\u001b[K     |██                              | 143kB 2.8MB/s eta 0:00:01\r\u001b[K     |██▏                             | 153kB 2.8MB/s eta 0:00:01\r\u001b[K     |██▎                             | 163kB 2.8MB/s eta 0:00:01\r\u001b[K     |██▌                             | 174kB 2.8MB/s eta 0:00:01\r\u001b[K     |██▋                             | 184kB 2.8MB/s eta 0:00:01\r\u001b[K     |██▊                             | 194kB 2.8MB/s eta 0:00:01\r\u001b[K     |███                             | 204kB 2.8MB/s eta 0:00:01\r\u001b[K     |███                             | 215kB 2.8MB/s eta 0:00:01\r\u001b[K     |███▏                            | 225kB 2.8MB/s eta 0:00:01\r\u001b[K     |███▍                            | 235kB 2.8MB/s eta 0:00:01\r\u001b[K     |███▌                            | 245kB 2.8MB/s eta 0:00:01\r\u001b[K     |███▋                            | 256kB 2.8MB/s eta 0:00:01\r\u001b[K     |███▊                            | 266kB 2.8MB/s eta 0:00:01\r\u001b[K     |████                            | 276kB 2.8MB/s eta 0:00:01\r\u001b[K     |████                            | 286kB 2.8MB/s eta 0:00:01\r\u001b[K     |████▏                           | 296kB 2.8MB/s eta 0:00:01\r\u001b[K     |████▍                           | 307kB 2.8MB/s eta 0:00:01\r\u001b[K     |████▌                           | 317kB 2.8MB/s eta 0:00:01\r\u001b[K     |████▋                           | 327kB 2.8MB/s eta 0:00:01\r\u001b[K     |████▉                           | 337kB 2.8MB/s eta 0:00:01\r\u001b[K     |█████                           | 348kB 2.8MB/s eta 0:00:01\r\u001b[K     |█████                           | 358kB 2.8MB/s eta 0:00:01\r\u001b[K     |█████▏                          | 368kB 2.8MB/s eta 0:00:01\r\u001b[K     |█████▍                          | 378kB 2.8MB/s eta 0:00:01\r\u001b[K     |█████▌                          | 389kB 2.8MB/s eta 0:00:01\r\u001b[K     |█████▋                          | 399kB 2.8MB/s eta 0:00:01\r\u001b[K     |█████▉                          | 409kB 2.8MB/s eta 0:00:01\r\u001b[K     |██████                          | 419kB 2.8MB/s eta 0:00:01\r\u001b[K     |██████                          | 430kB 2.8MB/s eta 0:00:01\r\u001b[K     |██████▎                         | 440kB 2.8MB/s eta 0:00:01\r\u001b[K     |██████▍                         | 450kB 2.8MB/s eta 0:00:01\r\u001b[K     |██████▌                         | 460kB 2.8MB/s eta 0:00:01\r\u001b[K     |██████▊                         | 471kB 2.8MB/s eta 0:00:01\r\u001b[K     |██████▉                         | 481kB 2.8MB/s eta 0:00:01\r\u001b[K     |███████                         | 491kB 2.8MB/s eta 0:00:01\r\u001b[K     |███████                         | 501kB 2.8MB/s eta 0:00:01\r\u001b[K     |███████▎                        | 512kB 2.8MB/s eta 0:00:01\r\u001b[K     |███████▍                        | 522kB 2.8MB/s eta 0:00:01\r\u001b[K     |███████▌                        | 532kB 2.8MB/s eta 0:00:01\r\u001b[K     |███████▊                        | 542kB 2.8MB/s eta 0:00:01\r\u001b[K     |███████▉                        | 552kB 2.8MB/s eta 0:00:01\r\u001b[K     |████████                        | 563kB 2.8MB/s eta 0:00:01\r\u001b[K     |████████▏                       | 573kB 2.8MB/s eta 0:00:01\r\u001b[K     |████████▎                       | 583kB 2.8MB/s eta 0:00:01\r\u001b[K     |████████▍                       | 593kB 2.8MB/s eta 0:00:01\r\u001b[K     |████████▌                       | 604kB 2.8MB/s eta 0:00:01\r\u001b[K     |████████▊                       | 614kB 2.8MB/s eta 0:00:01\r\u001b[K     |████████▉                       | 624kB 2.8MB/s eta 0:00:01\r\u001b[K     |█████████                       | 634kB 2.8MB/s eta 0:00:01\r\u001b[K     |█████████▏                      | 645kB 2.8MB/s eta 0:00:01\r\u001b[K     |█████████▎                      | 655kB 2.8MB/s eta 0:00:01\r\u001b[K     |█████████▍                      | 665kB 2.8MB/s eta 0:00:01\r\u001b[K     |█████████▋                      | 675kB 2.8MB/s eta 0:00:01\r\u001b[K     |█████████▊                      | 686kB 2.8MB/s eta 0:00:01\r\u001b[K     |█████████▉                      | 696kB 2.8MB/s eta 0:00:01\r\u001b[K     |██████████                      | 706kB 2.8MB/s eta 0:00:01\r\u001b[K     |██████████▏                     | 716kB 2.8MB/s eta 0:00:01\r\u001b[K     |██████████▎                     | 727kB 2.8MB/s eta 0:00:01\r\u001b[K     |██████████▍                     | 737kB 2.8MB/s eta 0:00:01\r\u001b[K     |██████████▋                     | 747kB 2.8MB/s eta 0:00:01\r\u001b[K     |██████████▊                     | 757kB 2.8MB/s eta 0:00:01\r\u001b[K     |██████████▉                     | 768kB 2.8MB/s eta 0:00:01\r\u001b[K     |███████████                     | 778kB 2.8MB/s eta 0:00:01\r\u001b[K     |███████████▏                    | 788kB 2.8MB/s eta 0:00:01\r\u001b[K     |███████████▎                    | 798kB 2.8MB/s eta 0:00:01\r\u001b[K     |███████████▌                    | 808kB 2.8MB/s eta 0:00:01\r\u001b[K     |███████████▋                    | 819kB 2.8MB/s eta 0:00:01\r\u001b[K     |███████████▊                    | 829kB 2.8MB/s eta 0:00:01\r\u001b[K     |███████████▉                    | 839kB 2.8MB/s eta 0:00:01\r\u001b[K     |████████████                    | 849kB 2.8MB/s eta 0:00:01\r\u001b[K     |████████████▏                   | 860kB 2.8MB/s eta 0:00:01\r\u001b[K     |████████████▎                   | 870kB 2.8MB/s eta 0:00:01\r\u001b[K     |████████████▌                   | 880kB 2.8MB/s eta 0:00:01\r\u001b[K     |████████████▋                   | 890kB 2.8MB/s eta 0:00:01\r\u001b[K     |████████████▊                   | 901kB 2.8MB/s eta 0:00:01\r\u001b[K     |█████████████                   | 911kB 2.8MB/s eta 0:00:01\r\u001b[K     |█████████████                   | 921kB 2.8MB/s eta 0:00:01\r\u001b[K     |█████████████▏                  | 931kB 2.8MB/s eta 0:00:01\r\u001b[K     |█████████████▍                  | 942kB 2.8MB/s eta 0:00:01\r\u001b[K     |█████████████▌                  | 952kB 2.8MB/s eta 0:00:01\r\u001b[K     |█████████████▋                  | 962kB 2.8MB/s eta 0:00:01\r\u001b[K     |█████████████▊                  | 972kB 2.8MB/s eta 0:00:01\r\u001b[K     |██████████████                  | 983kB 2.8MB/s eta 0:00:01\r\u001b[K     |██████████████                  | 993kB 2.8MB/s eta 0:00:01\r\u001b[K     |██████████████▏                 | 1.0MB 2.8MB/s eta 0:00:01\r\u001b[K     |██████████████▍                 | 1.0MB 2.8MB/s eta 0:00:01\r\u001b[K     |██████████████▌                 | 1.0MB 2.8MB/s eta 0:00:01\r\u001b[K     |██████████████▋                 | 1.0MB 2.8MB/s eta 0:00:01\r\u001b[K     |██████████████▉                 | 1.0MB 2.8MB/s eta 0:00:01\r\u001b[K     |███████████████                 | 1.1MB 2.8MB/s eta 0:00:01\r\u001b[K     |███████████████                 | 1.1MB 2.8MB/s eta 0:00:01\r\u001b[K     |███████████████▏                | 1.1MB 2.8MB/s eta 0:00:01\r\u001b[K     |███████████████▍                | 1.1MB 2.8MB/s eta 0:00:01\r\u001b[K     |███████████████▌                | 1.1MB 2.8MB/s eta 0:00:01\r\u001b[K     |███████████████▋                | 1.1MB 2.8MB/s eta 0:00:01\r\u001b[K     |███████████████▉                | 1.1MB 2.8MB/s eta 0:00:01\r\u001b[K     |████████████████                | 1.1MB 2.8MB/s eta 0:00:01\r\u001b[K     |████████████████                | 1.1MB 2.8MB/s eta 0:00:01\r\u001b[K     |████████████████▎               | 1.1MB 2.8MB/s eta 0:00:01\r\u001b[K     |████████████████▍               | 1.2MB 2.8MB/s eta 0:00:01\r\u001b[K     |████████████████▌               | 1.2MB 2.8MB/s eta 0:00:01\r\u001b[K     |████████████████▊               | 1.2MB 2.8MB/s eta 0:00:01\r\u001b[K     |████████████████▉               | 1.2MB 2.8MB/s eta 0:00:01\r\u001b[K     |█████████████████               | 1.2MB 2.8MB/s eta 0:00:01\r\u001b[K     |█████████████████               | 1.2MB 2.8MB/s eta 0:00:01\r\u001b[K     |█████████████████▎              | 1.2MB 2.8MB/s eta 0:00:01\r\u001b[K     |█████████████████▍              | 1.2MB 2.8MB/s eta 0:00:01\r\u001b[K     |█████████████████▌              | 1.2MB 2.8MB/s eta 0:00:01\r\u001b[K     |█████████████████▊              | 1.2MB 2.8MB/s eta 0:00:01\r\u001b[K     |█████████████████▉              | 1.3MB 2.8MB/s eta 0:00:01\r\u001b[K     |██████████████████              | 1.3MB 2.8MB/s eta 0:00:01\r\u001b[K     |██████████████████▏             | 1.3MB 2.8MB/s eta 0:00:01\r\u001b[K     |██████████████████▎             | 1.3MB 2.8MB/s eta 0:00:01\r\u001b[K     |██████████████████▍             | 1.3MB 2.8MB/s eta 0:00:01\r\u001b[K     |██████████████████▋             | 1.3MB 2.8MB/s eta 0:00:01\r\u001b[K     |██████████████████▊             | 1.3MB 2.8MB/s eta 0:00:01\r\u001b[K     |██████████████████▉             | 1.3MB 2.8MB/s eta 0:00:01\r\u001b[K     |███████████████████             | 1.3MB 2.8MB/s eta 0:00:01\r\u001b[K     |███████████████████▏            | 1.4MB 2.8MB/s eta 0:00:01\r\u001b[K     |███████████████████▎            | 1.4MB 2.8MB/s eta 0:00:01\r\u001b[K     |███████████████████▍            | 1.4MB 2.8MB/s eta 0:00:01\r\u001b[K     |███████████████████▋            | 1.4MB 2.8MB/s eta 0:00:01\r\u001b[K     |███████████████████▊            | 1.4MB 2.8MB/s eta 0:00:01\r\u001b[K     |███████████████████▉            | 1.4MB 2.8MB/s eta 0:00:01\r\u001b[K     |████████████████████            | 1.4MB 2.8MB/s eta 0:00:01\r\u001b[K     |████████████████████▏           | 1.4MB 2.8MB/s eta 0:00:01\r\u001b[K     |████████████████████▎           | 1.4MB 2.8MB/s eta 0:00:01\r\u001b[K     |████████████████████▍           | 1.4MB 2.8MB/s eta 0:00:01\r\u001b[K     |████████████████████▋           | 1.5MB 2.8MB/s eta 0:00:01\r\u001b[K     |████████████████████▊           | 1.5MB 2.8MB/s eta 0:00:01\r\u001b[K     |████████████████████▉           | 1.5MB 2.8MB/s eta 0:00:01\r\u001b[K     |█████████████████████           | 1.5MB 2.8MB/s eta 0:00:01\r\u001b[K     |█████████████████████▏          | 1.5MB 2.8MB/s eta 0:00:01\r\u001b[K     |█████████████████████▎          | 1.5MB 2.8MB/s eta 0:00:01\r\u001b[K     |█████████████████████▌          | 1.5MB 2.8MB/s eta 0:00:01\r\u001b[K     |█████████████████████▋          | 1.5MB 2.8MB/s eta 0:00:01\r\u001b[K     |█████████████████████▊          | 1.5MB 2.8MB/s eta 0:00:01\r\u001b[K     |██████████████████████          | 1.5MB 2.8MB/s eta 0:00:01\r\u001b[K     |██████████████████████          | 1.6MB 2.8MB/s eta 0:00:01\r\u001b[K     |██████████████████████▏         | 1.6MB 2.8MB/s eta 0:00:01\r\u001b[K     |██████████████████████▎         | 1.6MB 2.8MB/s eta 0:00:01\r\u001b[K     |██████████████████████▌         | 1.6MB 2.8MB/s eta 0:00:01\r\u001b[K     |██████████████████████▋         | 1.6MB 2.8MB/s eta 0:00:01\r\u001b[K     |██████████████████████▊         | 1.6MB 2.8MB/s eta 0:00:01\r\u001b[K     |███████████████████████         | 1.6MB 2.8MB/s eta 0:00:01\r\u001b[K     |███████████████████████         | 1.6MB 2.8MB/s eta 0:00:01\r\u001b[K     |███████████████████████▏        | 1.6MB 2.8MB/s eta 0:00:01\r\u001b[K     |███████████████████████▍        | 1.6MB 2.8MB/s eta 0:00:01\r\u001b[K     |███████████████████████▌        | 1.7MB 2.8MB/s eta 0:00:01\r\u001b[K     |███████████████████████▋        | 1.7MB 2.8MB/s eta 0:00:01\r\u001b[K     |███████████████████████▊        | 1.7MB 2.8MB/s eta 0:00:01\r\u001b[K     |████████████████████████        | 1.7MB 2.8MB/s eta 0:00:01\r\u001b[K     |████████████████████████        | 1.7MB 2.8MB/s eta 0:00:01\r\u001b[K     |████████████████████████▏       | 1.7MB 2.8MB/s eta 0:00:01\r\u001b[K     |████████████████████████▍       | 1.7MB 2.8MB/s eta 0:00:01\r\u001b[K     |████████████████████████▌       | 1.7MB 2.8MB/s eta 0:00:01\r\u001b[K     |████████████████████████▋       | 1.7MB 2.8MB/s eta 0:00:01\r\u001b[K     |████████████████████████▉       | 1.8MB 2.8MB/s eta 0:00:01\r\u001b[K     |█████████████████████████       | 1.8MB 2.8MB/s eta 0:00:01\r\u001b[K     |█████████████████████████       | 1.8MB 2.8MB/s eta 0:00:01\r\u001b[K     |█████████████████████████▎      | 1.8MB 2.8MB/s eta 0:00:01\r\u001b[K     |█████████████████████████▍      | 1.8MB 2.8MB/s eta 0:00:01\r\u001b[K     |█████████████████████████▌      | 1.8MB 2.8MB/s eta 0:00:01\r\u001b[K     |█████████████████████████▋      | 1.8MB 2.8MB/s eta 0:00:01\r\u001b[K     |█████████████████████████▉      | 1.8MB 2.8MB/s eta 0:00:01\r\u001b[K     |██████████████████████████      | 1.8MB 2.8MB/s eta 0:00:01\r\u001b[K     |██████████████████████████      | 1.8MB 2.8MB/s eta 0:00:01\r\u001b[K     |██████████████████████████▎     | 1.9MB 2.8MB/s eta 0:00:01\r\u001b[K     |██████████████████████████▍     | 1.9MB 2.8MB/s eta 0:00:01\r\u001b[K     |██████████████████████████▌     | 1.9MB 2.8MB/s eta 0:00:01\r\u001b[K     |██████████████████████████▊     | 1.9MB 2.8MB/s eta 0:00:01\r\u001b[K     |██████████████████████████▉     | 1.9MB 2.8MB/s eta 0:00:01\r\u001b[K     |███████████████████████████     | 1.9MB 2.8MB/s eta 0:00:01\r\u001b[K     |███████████████████████████     | 1.9MB 2.8MB/s eta 0:00:01\r\u001b[K     |███████████████████████████▎    | 1.9MB 2.8MB/s eta 0:00:01\r\u001b[K     |███████████████████████████▍    | 1.9MB 2.8MB/s eta 0:00:01\r\u001b[K     |███████████████████████████▌    | 1.9MB 2.8MB/s eta 0:00:01\r\u001b[K     |███████████████████████████▊    | 2.0MB 2.8MB/s eta 0:00:01\r\u001b[K     |███████████████████████████▉    | 2.0MB 2.8MB/s eta 0:00:01\r\u001b[K     |████████████████████████████    | 2.0MB 2.8MB/s eta 0:00:01\r\u001b[K     |████████████████████████████▏   | 2.0MB 2.8MB/s eta 0:00:01\r\u001b[K     |████████████████████████████▎   | 2.0MB 2.8MB/s eta 0:00:01\r\u001b[K     |████████████████████████████▍   | 2.0MB 2.8MB/s eta 0:00:01\r\u001b[K     |████████████████████████████▋   | 2.0MB 2.8MB/s eta 0:00:01\r\u001b[K     |████████████████████████████▊   | 2.0MB 2.8MB/s eta 0:00:01\r\u001b[K     |████████████████████████████▉   | 2.0MB 2.8MB/s eta 0:00:01\r\u001b[K     |█████████████████████████████   | 2.0MB 2.8MB/s eta 0:00:01\r\u001b[K     |█████████████████████████████▏  | 2.1MB 2.8MB/s eta 0:00:01\r\u001b[K     |█████████████████████████████▎  | 2.1MB 2.8MB/s eta 0:00:01\r\u001b[K     |█████████████████████████████▍  | 2.1MB 2.8MB/s eta 0:00:01\r\u001b[K     |█████████████████████████████▋  | 2.1MB 2.8MB/s eta 0:00:01\r\u001b[K     |█████████████████████████████▊  | 2.1MB 2.8MB/s eta 0:00:01\r\u001b[K     |█████████████████████████████▉  | 2.1MB 2.8MB/s eta 0:00:01\r\u001b[K     |██████████████████████████████  | 2.1MB 2.8MB/s eta 0:00:01\r\u001b[K     |██████████████████████████████▏ | 2.1MB 2.8MB/s eta 0:00:01\r\u001b[K     |██████████████████████████████▎ | 2.1MB 2.8MB/s eta 0:00:01\r\u001b[K     |██████████████████████████████▍ | 2.2MB 2.8MB/s eta 0:00:01\r\u001b[K     |██████████████████████████████▋ | 2.2MB 2.8MB/s eta 0:00:01\r\u001b[K     |██████████████████████████████▊ | 2.2MB 2.8MB/s eta 0:00:01\r\u001b[K     |██████████████████████████████▉ | 2.2MB 2.8MB/s eta 0:00:01\r\u001b[K     |███████████████████████████████ | 2.2MB 2.8MB/s eta 0:00:01\r\u001b[K     |███████████████████████████████▏| 2.2MB 2.8MB/s eta 0:00:01\r\u001b[K     |███████████████████████████████▎| 2.2MB 2.8MB/s eta 0:00:01\r\u001b[K     |███████████████████████████████▌| 2.2MB 2.8MB/s eta 0:00:01\r\u001b[K     |███████████████████████████████▋| 2.2MB 2.8MB/s eta 0:00:01\r\u001b[K     |███████████████████████████████▊| 2.2MB 2.8MB/s eta 0:00:01\r\u001b[K     |████████████████████████████████| 2.3MB 2.8MB/s eta 0:00:01\r\u001b[K     |████████████████████████████████| 2.3MB 2.8MB/s \n",
            "\u001b[?25hRequirement already satisfied: opencv-python>=4.1.0 in /usr/local/lib/python3.6/dist-packages (from mtcnn) (4.1.2.30)\n",
            "Requirement already satisfied: keras>=2.0.0 in /usr/local/lib/python3.6/dist-packages (from mtcnn) (2.3.1)\n",
            "Requirement already satisfied: numpy>=1.11.3 in /usr/local/lib/python3.6/dist-packages (from opencv-python>=4.1.0->mtcnn) (1.18.4)\n",
            "Requirement already satisfied: pyyaml in /usr/local/lib/python3.6/dist-packages (from keras>=2.0.0->mtcnn) (3.13)\n",
            "Requirement already satisfied: six>=1.9.0 in /usr/local/lib/python3.6/dist-packages (from keras>=2.0.0->mtcnn) (1.12.0)\n",
            "Requirement already satisfied: keras-applications>=1.0.6 in /usr/local/lib/python3.6/dist-packages (from keras>=2.0.0->mtcnn) (1.0.8)\n",
            "Requirement already satisfied: h5py in /usr/local/lib/python3.6/dist-packages (from keras>=2.0.0->mtcnn) (2.10.0)\n",
            "Requirement already satisfied: scipy>=0.14 in /usr/local/lib/python3.6/dist-packages (from keras>=2.0.0->mtcnn) (1.4.1)\n",
            "Requirement already satisfied: keras-preprocessing>=1.0.5 in /usr/local/lib/python3.6/dist-packages (from keras>=2.0.0->mtcnn) (1.1.2)\n",
            "Installing collected packages: mtcnn\n",
            "Successfully installed mtcnn-0.1.0\n"
          ],
          "name": "stdout"
        }
      ]
    },
    {
      "cell_type": "code",
      "metadata": {
        "id": "DlOCCQmyZlnK",
        "colab_type": "code",
        "outputId": "c9b677e0-2e51-4f18-8874-9f2cd681faa9",
        "colab": {
          "base_uri": "https://localhost:8080/",
          "height": 34
        }
      },
      "source": [
        "from PIL import Image\n",
        "import numpy as np\n",
        "\n",
        "# confirm mtcnn was installed correctly\n",
        "import mtcnn\n",
        "from mtcnn.mtcnn import MTCNN\n",
        "# print version\n",
        "print(mtcnn.__version__)"
      ],
      "execution_count": 0,
      "outputs": [
        {
          "output_type": "stream",
          "text": [
            "0.1.0\n"
          ],
          "name": "stdout"
        }
      ]
    },
    {
      "cell_type": "markdown",
      "metadata": {
        "id": "IpO6cVZYZyiN",
        "colab_type": "text"
      },
      "source": [
        "A continuación, podemos crear una instancia de la clase MTCNN, para la detección de caras todas las caras en la fotografía cargada. Para ello al método detect_faces le trasladamos la lectura de la imágen realizada con el método imread de Matplotlib.\n"
      ]
    },
    {
      "cell_type": "markdown",
      "metadata": {
        "id": "kPtYf9A0gVg4",
        "colab_type": "text"
      },
      "source": [
        "#### Preparando los datos de la imágen"
      ]
    },
    {
      "cell_type": "markdown",
      "metadata": {
        "id": "unnlBEvSgQjc",
        "colab_type": "text"
      },
      "source": [
        "El ejemplo siguiente utiliza la biblioteca PIL (la biblioteca de manejo de imágenes estándar en Python) para cargar una imagen y normalizar sus valores de píxeles.\n",
        "Los valores de los píxeles suelen ser enteros sin signo en el rango entre 0 y 255. Estos valores pueden ser utilizados directamente en las redes neuronales, pero para acelerar el proceso de modelado se aplica una normalización de los datos.\n",
        "Esta normalización consiste en escalar los valores de los píxeles en el rango de 0-1 para centrarlos e incluso estandarizar los valores.\n",
        "Luego podemos usar la biblioteca PIL para redimensionar esta pequeña imagen de la cara al tamaño requerido; específicamente, el modelo espera caras de entrada cuadradas con la forma 224×224."
      ]
    },
    {
      "cell_type": "code",
      "metadata": {
        "id": "QB89Baq-ZsCk",
        "colab_type": "code",
        "colab": {}
      },
      "source": [
        "# extract a single face from a given photograph\n",
        "def extract_face(filename, required_size=(224, 224)):\n",
        "\t# load image from file\n",
        "\tpixels = pyplot.imread(filename)\n",
        "\t# create the detector, using default weights\n",
        "\tdetector = MTCNN()\n",
        "\t# detect faces in the image\n",
        "\tresults = detector.detect_faces(pixels)\n",
        "\t# extract the bounding box from the first face\n",
        "\tx1, y1, width, height = results[0]['box']\n",
        "\tx2, y2 = x1 + width, y1 + height\n",
        "\t# extract the face\n",
        "\tface = pixels[y1:y2, x1:x2]\n",
        "\t# resize pixels to the model size\n",
        "\timage = Image.fromarray(face)\n",
        "\timage = image.resize(required_size)\n",
        "\tface_array = np.array(image)\n",
        "\treturn face_array"
      ],
      "execution_count": 0,
      "outputs": []
    },
    {
      "cell_type": "markdown",
      "metadata": {
        "id": "Ujt6jMAwaAQ6",
        "colab_type": "text"
      },
      "source": [
        "Podemos probar esta función con una fotografía.\n",
        "\n",
        "Usaremos como ejemplo una fotografía de [Sharon Stone tomada en 2013](https://en.wikipedia.org/wiki/File:Sharon_Stone_Cannes_2013_2.jpg) de Wikipedia publicada bajo una licencia permisiva.\n",
        "\n",
        "Descarga la fotografía y colócala en el directorio de trabajo actual con el nombre de archivo 'sharon_stone1.jpg'.\n",
        "\n"
      ]
    },
    {
      "cell_type": "code",
      "metadata": {
        "id": "v0YLGZtFaA7k",
        "colab_type": "code",
        "outputId": "e0234eb9-c1a6-495a-8d86-7d64a0a839c5",
        "colab": {
          "base_uri": "https://localhost:8080/",
          "height": 269
        }
      },
      "source": [
        "# load the photo and extract the face\n",
        "pixels = extract_face('sharon_stone1.jpg')\n",
        "# plot the extracted face\n",
        "pyplot.imshow(pixels)\n",
        "# show the plot\n",
        "pyplot.show()"
      ],
      "execution_count": 0,
      "outputs": [
        {
          "output_type": "display_data",
          "data": {
            "image/png": "[encoded data removed]",
            "text/plain": [
              "<Figure size 432x288 with 1 Axes>"
            ]
          },
          "metadata": {
            "tags": [],
            "needs_background": "light"
          }
        }
      ]
    },
    {
      "cell_type": "markdown",
      "metadata": {
        "id": "nXKeKRDicg_Z",
        "colab_type": "text"
      },
      "source": [
        "Al ejecutar el ejemplo se carga la fotografía, se extrae el rostro y se traza el resultado.\n",
        "Podemos ver que la cara fue detectada y extraída correctamente.\n",
        "\n",
        "Los resultados sugieren que podemos utilizar la función `extract_face() `desarrollada como base para los ejemplos con el modelo de reconocimiento facial VGGFace que se implementará a continuación.\n",
        "\n"
      ]
    },
    {
      "cell_type": "markdown",
      "metadata": {
        "id": "ccCQ_9LV2hrD",
        "colab_type": "text"
      },
      "source": [
        "Podemos probar el modelo con otra celebridad, en este caso, un hombre, Channing Tatum.\n",
        "\n",
        "Una fotografía de [Channing Tatum tomada en 2017](https://en.wikipedia.org/wiki/File:Channing_Tatum_by_Gage_Skidmore_3.jpg) está disponible en Wikipedia bajo una licencia permisiva.\n",
        "\n",
        "![Channing Tatum](https://upload.wikimedia.org/wikipedia/commons/thumb/8/8d/Channing_Tatum_by_Gage_Skidmore_3.jpg/456px-Channing_Tatum_by_Gage_Skidmore_3.jpg)\n",
        "\n",
        "\n",
        "Descarga la fotografía y guárdela en su directorio de trabajo actual con el nombre de archivo 'channing_tatum.jpg'."
      ]
    },
    {
      "cell_type": "markdown",
      "metadata": {
        "id": "d5NGwIETcokW",
        "colab_type": "text"
      },
      "source": [
        "## Etapa 3: Representaciones\n",
        "\n",
        "### Cómo realizar la identificación de la cara con el VGGFace2\n",
        "\n",
        "Usaremos el modelo VGGFace2 para realizar el reconocimiento facial con fotografías de famosos de Wikipedia.\n",
        "Un modelo VGGFace puede ser creado usando el constructor VGGFace() y especificando el tipo de modelo a crear mediante el argumento 'model'."
      ]
    },
    {
      "cell_type": "markdown",
      "metadata": {
        "id": "ISRoG_6Hc-_W",
        "colab_type": "text"
      },
      "source": [
        "La biblioteca keras-vggface proporciona tres modelos VGGModels pre-entrenados, un modelo VGGFace1 a través de model='vgg16′ (el predeterminado), y dos modelos VGGFace2 'resnet50' y 'senet50'.\n",
        "\n",
        "El siguiente ejemplo crea un modelo VGGFace2 'resnet50' y resume la forma de las entradas y salidas."
      ]
    },
    {
      "cell_type": "code",
      "metadata": {
        "id": "vbXC6qx1cjLT",
        "colab_type": "code",
        "outputId": "19918d79-a2e1-42e9-c967-3bb805819090",
        "colab": {
          "base_uri": "https://localhost:8080/",
          "height": 85
        }
      },
      "source": [
        "# example of creating a face embedding\n",
        "from keras_vggface.vggface import VGGFace\n",
        "# create a vggface2 model\n",
        "model = VGGFace(model='resnet50')\n",
        "# summarize input and output shape\n",
        "print('Inputs: %s' % model.inputs)\n",
        "print('Outputs: %s' % model.outputs)"
      ],
      "execution_count": 0,
      "outputs": [
        {
          "output_type": "stream",
          "text": [
            "Downloading data from https://github.com/rcmalli/keras-vggface/releases/download/v2.0/rcmalli_vggface_tf_resnet50.h5\n",
            "165445632/165439116 [==============================] - 12s 0us/step\n",
            "Inputs: [<tf.Tensor 'input_4:0' shape=(None, 224, 224, 3) dtype=float32>]\n",
            "Outputs: [<tf.Tensor 'classifier/Softmax:0' shape=(None, 8631) dtype=float32>]\n"
          ],
          "name": "stdout"
        }
      ]
    },
    {
      "cell_type": "markdown",
      "metadata": {
        "id": "TiAbLNxM3t-8",
        "colab_type": "text"
      },
      "source": [
        "La primera vez que se crea un modelo, la biblioteca descargará los pesos de los modelos y los guardará en el directorio ./keras/models/vggface/ de su directorio personal. El tamaño de los pesos del modelo de resnet50 es de unos 158 megabytes, por lo que la descarga puede tardar unos minutos dependiendo de la velocidad de su conexión a Internet.\n",
        "\n",
        "Ejecutando el ejemplo se imprime la forma de los tensores de entrada y salida del modelo.\n",
        "\n",
        "Podemos ver que el modelo espera imágenes en color de entrada de caras con la forma de 244×244 y la salida será una predicción de clase de 8.631 personas. Esto tiene sentido dado que los modelos pre-entrenados fueron entrenados en 8.631 identidades en el conjunto de datos del MS-Celeb-1M (listados en este archivo CSV).\n",
        "\n",
        "Este modelo de Keras puede ser usado directamente para predecir la probabilidad de que un rostro dado pertenezca a una o más de las más de ocho mil celebridades conocidas; \n",
        "\n",
        "Una vez hecha la predicción, los números enteros de la clase se pueden asignar a los nombres de las celebridades, y se pueden recuperar los cinco nombres con mayor probabilidad.\n",
        "\n",
        "Este comportamiento es proporcionado por la función decode_predictions() en la biblioteca keras-vggface.\n",
        "\n",
        "Antes de que podamos hacer una predicción con una cara, los valores de los píxeles deben ser escalados de la misma manera en que los datos fueron preparados cuando el modelo VGGFace fue ajustado. Específicamente, los valores de los píxeles deben ser centrados en cada canal usando la media del conjunto de datos de entrenamiento.\n",
        "\n",
        "Esto puede lograrse utilizando la función preprocess_input() proporcionada en la biblioteca keras-vggface y especificando la 'versión=2' para que las imágenes se escalen utilizando los valores medios usados para entrenar los modelos VGGFace2 en lugar de los modelos VGGFace1 (el valor por defecto).\n",
        "\n",
        "Podemos unir todo esto y predecir la identidad de nuestra fotografía de Shannon Stone descargada en la sección anterior, específicamente 'sharon_stone1.jpg'.\n"
      ]
    },
    {
      "cell_type": "code",
      "metadata": {
        "id": "nv4xv65836g6",
        "colab_type": "code",
        "outputId": "be174a40-63b0-495c-dcee-51bef3024668",
        "colab": {
          "base_uri": "https://localhost:8080/",
          "height": 136
        }
      },
      "source": [
        "from numpy import expand_dims\n",
        "from matplotlib import pyplot\n",
        "from PIL import Image\n",
        "from numpy import asarray\n",
        "from mtcnn.mtcnn import MTCNN\n",
        "from keras_vggface.vggface import VGGFace\n",
        "from keras_vggface.utils import preprocess_input\n",
        "from keras_vggface.utils import decode_predictions\n",
        "\n",
        "# extract a single face from a given photograph\n",
        "def extract_face(filename, required_size=(224, 224)):\n",
        "\t# load image from file\n",
        "\tpixels = pyplot.imread(filename)\n",
        "\t# create the detector, using default weights\n",
        "\tdetector = MTCNN()\n",
        "\t# detect faces in the image\n",
        "\tresults = detector.detect_faces(pixels)\n",
        "\t# extract the bounding box from the first face\n",
        "\tx1, y1, width, height = results[0]['box']\n",
        "\tx2, y2 = x1 + width, y1 + height\n",
        "\t# extract the face\n",
        "\tface = pixels[y1:y2, x1:x2]\n",
        "\t# resize pixels to the model size\n",
        "\timage = Image.fromarray(face)\n",
        "\timage = image.resize(required_size)\n",
        "\tface_array = asarray(image)\n",
        "\treturn face_array\n",
        "\n",
        "# load the photo and extract the face\n",
        "pixels = extract_face('sharon_stone1.jpg')\n",
        "# convert one face into samples\n",
        "pixels = pixels.astype('float32')\n",
        "samples = expand_dims(pixels, axis=0)\n",
        "# prepare the face for the model, e.g. center pixels\n",
        "samples = preprocess_input(samples, version=2 )\n",
        "# create a vggface model\n",
        "model = VGGFace(model='resnet50')\n",
        "# perform prediction\n",
        "m_prediction = model.predict(samples)\n",
        "# convert prediction into names\n",
        "results = decode_predictions(m_prediction)\n",
        "# display most likely results\n",
        "for result in results[0]:\n",
        "\tprint('%s: %.3f%%' % (result[0], result[1]*100))"
      ],
      "execution_count": 0,
      "outputs": [
        {
          "output_type": "stream",
          "text": [
            "Downloading data from https://github.com/rcmalli/keras-vggface/releases/download/v2.0/rcmalli_vggface_labels_v2.npy\n",
            "1351680/1346516 [==============================] - 1s 1us/step\n",
            "b' Sharon_Stone': 99.479%\n",
            "b' Noelle_Reno': 0.060%\n",
            "b' Emma_Atkins': 0.037%\n",
            "b' Line_Verndal': 0.024%\n",
            "b' Anita_Lipnicka': 0.021%\n"
          ],
          "name": "stdout"
        }
      ]
    },
    {
      "cell_type": "markdown",
      "metadata": {
        "id": "tkuNEKfy4NN3",
        "colab_type": "text"
      },
      "source": [
        "Al ejecutar el ejemplo se carga la fotografía, se extrae el único rostro que sabemos que estaba presente, y luego se predice la identidad del rostro.\n",
        "\n",
        "Entonces se muestran los cinco nombres de mayor probabilidad.\n",
        "\n",
        "Podemos ver que el modelo identifica correctamente la cara como perteneciente a Sharon Stone con una probabilidad del 99%."
      ]
    },
    {
      "cell_type": "markdown",
      "metadata": {
        "id": "th6FirnO5rur",
        "colab_type": "text"
      },
      "source": [
        "## Etapa 4: Verificación\n",
        "\n",
        "Se puede utilizar un modelo VGGFace2 para la verificación de la cara.\n",
        "\n",
        "Esto implica calcular una incrustación de la cara para una nueva cara dada y comparar la incrustación con la incrustación para el único ejemplo de la cara conocida por el sistema.\n",
        "\n",
        "Una incrustación facial es un vector que representa los rasgos extraídos de la cara. Esto puede entonces compararse con los vectores generados para otras caras. Por ejemplo, otro vector que está cerca (en cierta medida) puede ser la misma persona, mientras que otro vector que está lejos (en cierta medida) puede ser una persona diferente.\n",
        "\n",
        "Las medidas típicas como la distancia euclidiana y la distancia coseno se calculan entre dos incrustaciones y se dice que las caras coinciden o verifican si la distancia está por debajo de un umbral predefinido, a menudo ajustado para un conjunto de datos o aplicación específicos.\n",
        "\n",
        "En primer lugar, podemos cargar el modelo VGGFace sin el clasificador estableciendo el argumento 'include_top' en 'False', especificando la forma de la salida a través de la 'input_shape' y estableciendo 'pooling' en 'avg' para que los mapas de filtro en el extremo de salida del modelo se reduzcan a un vector utilizando el promedio global de pooling.\n",
        "\n",
        "Este modelo puede utilizarse entonces para hacer una predicción, que devolverá una incrustación de caras para una o más caras proporcionadas como entrada.\n",
        "\n",
        "Podemos definir una nueva función que, dada una lista de nombres de archivo para las fotos que contienen una cara, extraerá una cara de cada foto mediante la función extract_face() desarrollada en una sección anterior, se requiere un preprocesamiento para las entradas al modelo VGGFace2 y puede lograrse llamando a preprocess_input(), y luego predecir una incrustación de una cara para cada una.\n",
        "\n",
        "La función get_embeddings() que se muestra a continuación implementa esto, devolviendo una matriz que contiene una incrustación para una cara para cada nombre de archivo de fotografía proporcionado.\n",
        "\n",
        "### Cómo realizar la verificación de la cara con el VGGFace2\n",
        "Podemos tomar nuestra fotografía de Sharon Stone utilizada anteriormente (por ejemplo, sharon_stone1.jpg) como nuestra definición de la identidad de Sharon Stone calculando y almacenando la incrustación de la cara para la cara en esa fotografía.\n",
        "\n",
        "Podemos entonces calcular las incrustaciones para los rostros en otras fotografías de Sharon Stone y probar si podemos verificar efectivamente su identidad. También podemos utilizar rostros de fotografías de otras personas para confirmar que no están verificadas como Sharon Stone.\n",
        "\n",
        "La verificación puede realizarse calculando la distancia del coseno entre la incrustación de la identidad conocida y las incrustaciones de los rostros candidatos. Esto puede lograrse usando la función coseno() SciPy. La distancia máxima entre dos incrustaciones es de 1,0, mientras que la distancia mínima es de 0,0. Un valor de corte común utilizado para la identidad de las caras es entre 0,4 y 0,6, como 0,5, aunque esto debe ajustarse para una aplicación.\n",
        "\n",
        "La función is_match() que se muestra a continuación implementa esto, calculando la distancia entre dos incrustaciones e interpretando el resultado.\n",
        "\n",
        "Podemos probar algunos ejemplos positivos descargando más fotos de Sharon Stone de Wikipedia.\n",
        "\n",
        "Específicamente, una fotografía [tomada en 2002](https://en.wikipedia.org/wiki/File:Sharon_Stone..jpg) (descargar y guardar como 'sharon_stone2.jpg'), y una fotografía [tomada en 2017](https://en.wikipedia.org/wiki/File:Sharon_Stone_by_Gage_Skidmore_3.jpg) (descargar y guardar como 'sharon_stone3.jpg')\n",
        "\n",
        "* [sharon_stone2.jpg](https://en.wikipedia.org/wiki/File:Sharon_Stone..jpg)\n",
        "* [sharon_stone3.jpg](https://en.wikipedia.org/wiki/File:Sharon_Stone_by_Gage_Skidmore_3.jpg)\n",
        "\n",
        "Analizaremos estos dos casos positivos y la foto de Channing Tatum de la sección anterior como un ejemplo negativo."
      ]
    },
    {
      "cell_type": "code",
      "metadata": {
        "id": "bWdjYAbc6yWt",
        "colab_type": "code",
        "outputId": "28e1c2f7-de07-41f2-c85f-863a926e8e70",
        "colab": {
          "base_uri": "https://localhost:8080/",
          "height": 136
        }
      },
      "source": [
        "from matplotlib import pyplot\n",
        "from PIL import Image\n",
        "from numpy import asarray\n",
        "from scipy.spatial.distance import cosine\n",
        "from mtcnn.mtcnn import MTCNN\n",
        "from keras_vggface.vggface import VGGFace\n",
        "from keras_vggface.utils import preprocess_input\n",
        "\n",
        "# extract a single face from a given photograph\n",
        "def extract_face(filename, required_size=(224, 224)):\n",
        "\t# load image from file\n",
        "\tpixels = pyplot.imread(filename)\n",
        "\t# create the detector, using default weights\n",
        "\tdetector = MTCNN()\n",
        "\t# detect faces in the image\n",
        "\tresults = detector.detect_faces(pixels)\n",
        "\t# extract the bounding box from the first face\n",
        "\tx1, y1, width, height = results[0]['box']\n",
        "\tx2, y2 = x1 + width, y1 + height\n",
        "\t# extract the face\n",
        "\tface = pixels[y1:y2, x1:x2]\n",
        "\t# resize pixels to the model size\n",
        "\timage = Image.fromarray(face)\n",
        "\timage = image.resize(required_size)\n",
        "\tface_array = asarray(image)\n",
        "\treturn face_array\n",
        "\n",
        "# extract faces and calculate face embeddings for a list of photo files\n",
        "def get_embeddings(filenames):\n",
        "\t# extract faces\n",
        "\tfaces = [extract_face(f) for f in filenames]\n",
        "\t# convert into an array of samples\n",
        "\tsamples = asarray(faces, 'float32')\n",
        "\t# prepare the face for the model, e.g. center pixels\n",
        "\tsamples = preprocess_input(samples, version=2)\n",
        "\t# create a vggface model\n",
        "\tmodel = VGGFace(model='resnet50', include_top=False, input_shape=(224, 224, 3), pooling='avg')\n",
        "\t# perform prediction\n",
        "\tyhat = model.predict(samples)\n",
        "\treturn yhat\n",
        "\n",
        "# determine if a candidate face is a match for a known face\n",
        "def is_match(known_embedding, candidate_embedding, thresh=0.5):\n",
        "\t# calculate distance between embeddings\n",
        "\tscore = cosine(known_embedding, candidate_embedding)\n",
        "\tif score <= thresh:\n",
        "\t\tprint('>face is a Match (%.3f <= %.3f)' % (score, thresh))\n",
        "\telse:\n",
        "\t\tprint('>face is NOT a Match (%.3f > %.3f)' % (score, thresh))\n",
        "\n",
        "# define filenames\n",
        "filenames = ['sharon_stone1.jpg', 'sharon_stone2.jpg',\n",
        "\t'sharon_stone3.jpg', 'channing_tatum.jpg']\n",
        "# get embeddings file filenames\n",
        "embeddings = get_embeddings(filenames)\n",
        "# define sharon stone\n",
        "sharon_id = embeddings[0]\n",
        "# verify known photos of sharon\n",
        "print('Positive Tests')\n",
        "is_match(embeddings[0], embeddings[1])\n",
        "is_match(embeddings[0], embeddings[2])\n",
        "# verify known photos of other people\n",
        "print('Negative Tests')\n",
        "is_match(embeddings[0], embeddings[3])"
      ],
      "execution_count": 0,
      "outputs": [
        {
          "output_type": "stream",
          "text": [
            "Downloading data from https://github.com/rcmalli/keras-vggface/releases/download/v2.0/rcmalli_vggface_tf_notop_resnet50.h5\n",
            "94699520/94694792 [==============================] - 7s 0us/step\n",
            "Positive Tests\n",
            ">face is a Match (0.474 <= 0.500)\n",
            ">face is a Match (0.313 <= 0.500)\n",
            "Negative Tests\n",
            ">face is NOT a Match (0.729 > 0.500)\n"
          ],
          "name": "stdout"
        }
      ]
    },
    {
      "cell_type": "markdown",
      "metadata": {
        "id": "nmHHfR-KzN6h",
        "colab_type": "text"
      },
      "source": [
        "## Bibliografía\n",
        "\n",
        "Brownlee, J. (2019), _Image Classification, Object Detection in Python_. Machine Learning Mastery. Recuperado de [aquí](https://machinelearningmastery.com/)"
      ]
    },
    {
      "cell_type": "code",
      "metadata": {
        "id": "euYVKI-7FI5l",
        "colab_type": "code",
        "colab": {}
      },
      "source": [
        ""
      ],
      "execution_count": 0,
      "outputs": []
    }
  ]
}